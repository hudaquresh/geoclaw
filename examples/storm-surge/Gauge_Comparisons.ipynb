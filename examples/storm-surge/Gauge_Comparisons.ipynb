{
 "cells": [
  {
   "cell_type": "code",
   "execution_count": 10,
   "metadata": {
    "collapsed": true
   },
   "outputs": [],
   "source": [
    "from clawpack.pyclaw.gauges import GaugeSolution\n",
    "import numpy\n",
    "import matplotlib.pyplot as plt "
   ]
  },
  {
   "cell_type": "markdown",
   "metadata": {},
   "source": [
    "## Isaac 2012"
   ]
  },
  {
   "cell_type": "code",
   "execution_count": 30,
   "metadata": {
    "collapsed": false
   },
   "outputs": [],
   "source": [
    "gh_isaac = [] \n",
    "gc_isaac = [] \n",
    "\n",
    "for x in range(0,4): \n",
    "    gh_isaac.append(GaugeSolution(gauge_id=x+1, path='./isaac-holland/_output'))\n",
    "    \n",
    "for x in range(0,4): \n",
    "    gc_isaac.append(GaugeSolution(gauge_id=x+1, path='./isaac-cle/_output'))\n",
    "    "
   ]
  },
  {
   "cell_type": "code",
   "execution_count": 31,
   "metadata": {
    "collapsed": false
   },
   "outputs": [],
   "source": [
    "for x in range(0,4):\n",
    "    fig = plt.figure()\n",
    "    axes = fig.add_subplot(1,1,1)\n",
    "    axes.plot(gh_isaac[x].t, gh_isaac[x].q[3], '--r', label='Holland Geoclaw Run')\n",
    "    axes.plot(gc_isaac[x].t, gc_isaac[x].q[3], '--b', label='CLE Geoclaw Run')\n",
    " \n",
    "    axes.set_title(\"Gauge %i\" %(x+1))\n",
    "    axes.set_xlabel(\"Seconds from Landfall\")\n",
    "    axes.set_ylabel(\"Height from Mean Sea Level (m)\")\n",
    "    axes.legend()\n",
    "    fig.savefig('./gauges/Isaac_Gauge%i.png'%(x+1),format='png')\n",
    "    plt.show()"
   ]
  },
  {
   "cell_type": "markdown",
   "metadata": {},
   "source": [
    "## Earl 2016"
   ]
  },
  {
   "cell_type": "code",
   "execution_count": 32,
   "metadata": {
    "collapsed": false
   },
   "outputs": [],
   "source": [
    "gh_earl = [] \n",
    "gc_earl = [] \n",
    "\n",
    "for x in range(0,4): \n",
    "    gh_earl.append(GaugeSolution(gauge_id=x+1, path='./earl-holland/_output'))\n",
    "    \n",
    "for x in range(0,4): \n",
    "    gc_earl.append(GaugeSolution(gauge_id=x+1, path='./earl-cle/_output'))"
   ]
  },
  {
   "cell_type": "code",
   "execution_count": 33,
   "metadata": {
    "collapsed": true
   },
   "outputs": [],
   "source": [
    "for x in range(0,4):\n",
    "    fig = plt.figure()\n",
    "    axes = fig.add_subplot(1,1,1)\n",
    "    axes.plot(gh_earl[x].t, gh_earl[x].q[3], '--r', label='Holland Geoclaw Run')\n",
    "    axes.plot(gc_earl[x].t, gc_earl[x].q[3], '--b', label='CLE Geoclaw Run')\n",
    " \n",
    "    axes.set_title(\"Gauge %i\" %(x+1))\n",
    "    axes.set_xlabel(\"Seconds from Landfall\")\n",
    "    axes.set_ylabel(\"Height from Mean Sea Level (m)\")\n",
    "    axes.legend()\n",
    "    fig.savefig('./gauges/Earl_Gauge%i.png'%(x+1),format='png')\n",
    "    plt.show()"
   ]
  },
  {
   "cell_type": "markdown",
   "metadata": {},
   "source": [
    "## Ike 2008"
   ]
  },
  {
   "cell_type": "code",
   "execution_count": 34,
   "metadata": {
    "collapsed": true
   },
   "outputs": [],
   "source": [
    "gh_ike = [] \n",
    "gc_ike = [] \n",
    "\n",
    "for x in range(0,4): \n",
    "    gh_ike.append(GaugeSolution(gauge_id=x+1, path='./ike-holland/_output'))\n",
    "    \n",
    "for x in range(0,4): \n",
    "    gc_ike.append(GaugeSolution(gauge_id=x+1, path='./ike-cle/_output'))\n",
    "    "
   ]
  },
  {
   "cell_type": "code",
   "execution_count": 35,
   "metadata": {
    "collapsed": true
   },
   "outputs": [],
   "source": [
    "for x in range(0,4):\n",
    "    fig = plt.figure()\n",
    "    axes = fig.add_subplot(1,1,1)\n",
    "    axes.plot(gh_ike[x].t, gh_ike[x].q[3], '--r', label='Holland Geoclaw Run')\n",
    "    axes.plot(gc_ike[x].t, gc_ike[x].q[3], '--b', label='CLE Geoclaw Run')\n",
    " \n",
    "    axes.set_title(\"Gauge %i\" %(x+1))\n",
    "    axes.set_xlabel(\"Seconds from Landfall\")\n",
    "    axes.set_ylabel(\"Height from Mean Sea Level (m)\")\n",
    "    axes.legend()\n",
    "    fig.savefig('./gauges/Ike_Gauge%i.png'%(x+1),format='png')\n",
    "    plt.show()"
   ]
  },
  {
   "cell_type": "markdown",
   "metadata": {},
   "source": [
    "## Katrina 2005 "
   ]
  },
  {
   "cell_type": "code",
   "execution_count": 39,
   "metadata": {
    "collapsed": false
   },
   "outputs": [],
   "source": [
    "gh_katrina = [] \n",
    "gc_katrina = [] \n",
    "\n",
    "for x in range(0,4): \n",
    "    gh_katrina.append(GaugeSolution(gauge_id=x+1, path='./katrina-holland/_output'))\n",
    "    \n",
    "for x in range(0,4): \n",
    "    gc_katrina.append(GaugeSolution(gauge_id=x+1, path='./katrina-cle/_output'))\n",
    "    \n",
    "for x in range(0,4):\n",
    "    fig = plt.figure()\n",
    "    axes = fig.add_subplot(1,1,1)\n",
    "    axes.plot(gh_katrina[x].t, gh_katrina[x].q[3], '--r', label='Holland Geoclaw Run')\n",
    "    axes.plot(gc_katrina[x].t, gc_katrina[x].q[3], '--b', label='CLE Geoclaw Run')\n",
    " \n",
    "    axes.set_title(\"Gauge %i\" %(x+1))\n",
    "    axes.set_xlabel(\"Seconds from New Year\")\n",
    "    axes.set_ylabel(\"Height from Mean Sea Level (m)\")\n",
    "    axes.legend()\n",
    "    fig.savefig('./gauges/Katrina_Gauge%i.png'%(x+1),format='png')\n",
    "    plt.show()"
   ]
  },
  {
   "cell_type": "code",
   "execution_count": null,
   "metadata": {
    "collapsed": true
   },
   "outputs": [],
   "source": []
  }
 ],
 "metadata": {
  "anaconda-cloud": {},
  "kernelspec": {
   "display_name": "Python [Root]",
   "language": "python",
   "name": "Python [Root]"
  },
  "language_info": {
   "codemirror_mode": {
    "name": "ipython",
    "version": 2
   },
   "file_extension": ".py",
   "mimetype": "text/x-python",
   "name": "python",
   "nbconvert_exporter": "python",
   "pygments_lexer": "ipython2",
   "version": "2.7.12"
  }
 },
 "nbformat": 4,
 "nbformat_minor": 2
}
